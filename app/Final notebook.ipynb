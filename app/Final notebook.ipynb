{
 "cells": [
  {
   "cell_type": "markdown",
   "metadata": {},
   "source": [
    "# **Projet IMDB — Python pour la data science**"
   ]
  },
  {
   "cell_type": "markdown",
   "metadata": {},
   "source": [
    "#### **Projet réalisé par : Antoine ROCHE, Guy DELLOYE, Sarakpy NY**"
   ]
  },
  {
   "cell_type": "markdown",
   "metadata": {},
   "source": [
    "## Problématique et données"
   ]
  },
  {
   "cell_type": "markdown",
   "metadata": {},
   "source": [
    "<center> <img src=\"figures/IMDb_logo.png\" alt=\"Drawing\" style=\"width: 400px;\"/> </center>"
   ]
  },
  {
   "cell_type": "markdown",
   "metadata": {},
   "source": [
    "Notre projet s'intéresse aux films ayant le plus de succès à partir du site IMDb. Il se décompose en deux parties :\n",
    "1. **Statistiques sur les films de l'IMDb**\n",
    "\n",
    "   Nous effectuons dans un premier temps une analyse des films dont les données sont disponibles sur le site sur plusieurs échelles : nous nous intéressons dans un premier temps à l'ensemble des films et séries, avant de nous restreindre aux films, les séries jouant un rôle néfaste dans notre analyse, comme expliqué plus tard. Puis nous nous intéressons aux \"meilleurs\" films. L'IMDb effectue en effet un top 250 des films. Pour être éligible au top 250, il faut d'abord que le film ait plus de 25000 notes par les utilisateurs. Nous nous intéressons donc dans un troisième temps aux films éligibles (*popular films*) avant de nous concentrer enfin sur le top 250 IMDb.\n",
    "\n",
    "   Nous effectuons une analyse statistique et graphique des données afin de mesurer l'importance du genre ou encore de la durée. Nous nous intéressons également aux réalisateurs prolifiques.\n",
    "\n",
    "2. **Algorithme de recommendation de films**\n",
    "\n",
    "   Au-delà de cette analyse des films à succès, nous avons trouvé intéressant de produire un algorithme de recommendation de films. À partir d'un ou plusieurs films que l'utilisateur apprécie, l'algorithme lui recommande d'autres films de la base de données qu'il pourrait apprécier.\n"
   ]
  },
  {
   "cell_type": "markdown",
   "metadata": {},
   "source": [
    "## **1. Mise en place**"
   ]
  },
  {
   "cell_type": "markdown",
   "metadata": {},
   "source": [
    "Les premières commandes à entrer dans le Terminal sont indiquées dans le fichier setup.py"
   ]
  },
  {
   "cell_type": "markdown",
   "metadata": {},
   "source": [
    "```bash\n",
    "# Clone the repository\n",
    "git clone https://github.com/deph-s/projet_python_ds2024\n",
    "\n",
    "# Navigate into the directory\n",
    "cd projet_python_ds2024/app/\n",
    "\n",
    "# Install everything with the setup.py\n",
    "python setup.py install\n",
    "\n",
    "# Run the streamlit file\n",
    "streamlit run Analysis_of_the_IMDb_dataset.py"
   ]
  },
  {
   "cell_type": "markdown",
   "metadata": {},
   "source": [
    "L'exécution de ces commandes permet à l'utilisateur d'ouvrir dans le browser l'interface de notre projet."
   ]
  },
  {
   "cell_type": "markdown",
   "metadata": {},
   "source": [
    "## **2. Récupération et traitement des données**"
   ]
  },
  {
   "cell_type": "markdown",
   "metadata": {},
   "source": [
    "### 2.1 Récupération des données"
   ]
  },
  {
   "cell_type": "markdown",
   "metadata": {},
   "source": [
    "### 2.2 Variables intéressantes de la base"
   ]
  },
  {
   "cell_type": "markdown",
   "metadata": {},
   "source": [
    "## **3. Analyse descriptive et représentation graphique**"
   ]
  },
  {
   "cell_type": "markdown",
   "metadata": {},
   "source": [
    "Les statistiques descriptives occupent une part importante de notre projet, qui correspondent aux trois premières pages \"First look at the data\", \"Popular movies and directors\" et \"Some statistics\". Nous y étudions le rôle du genre, de la durée ou d'autres facteurs encore sur le succès éventuel d'un film. "
   ]
  },
  {
   "cell_type": "markdown",
   "metadata": {},
   "source": [
    "#### 3.0 Visualisation"
   ]
  },
  {
   "cell_type": "markdown",
   "metadata": {},
   "source": [
    "Pour l'interface graphique du projet, nous avons choisi d'utiliser la bibliothèque Streamlit. Facile à manipuler, elle nous a permis d'exposer proprement les résultats et leurs analyses sous formes de tables, de graphes et de commentaires. Nous avons créés plusieurs pages pour présenter les résultats, avec une dernière page consacrée à l'algorithme de recommendation."
   ]
  },
  {
   "cell_type": "markdown",
   "metadata": {},
   "source": [
    "Pour la représentation graphique des données, nous avons souvent fait le choix de l'histogramme afin de visualiser et de comparer facilement les durées ou les genres des films. Pour étudier l'éventuelle corrélation entre ces deux variables, nous avons tracé un camembert. Les couleurs permettent d'identifier facilement les valeurs proches et à l'inverse les valeurs extrêmes."
   ]
  },
  {
   "cell_type": "markdown",
   "metadata": {},
   "source": [
    "### 3.1 Premières observations"
   ]
  },
  {
   "cell_type": "markdown",
   "metadata": {},
   "source": [
    "Nous avons tout d'abord affiché les premières lignes du dataset. On y observe pour chaque film son id, le titre ou encore l'année de sortie, variable nommée \"Released\" qui nous sera utile pour la suite. On observe que l'année est indiquée avec une virgule après le chiffre des milliers, et il nous a semblé utile de la retirer dans notre analyse. La variable \"Genres\" nous intéresse également. D'autres variables sont peu renseignées, comme le montre par exemple la colonne \"Writers\"."
   ]
  },
  {
   "cell_type": "markdown",
   "metadata": {},
   "source": [
    "Nous avons ensuite effectué une première analyse rapide du dataset.\n",
    "Le nombre total de films dans la base est 1 491 359, ils ont une durée moyenne de 55 min 28. Nous nous sommes intéressés à des valeurs extrêmes : le plus vieux film date de 1888, le plus long dure 991 heures tandis que le plus court fait moins d'une minute. Enfin, comme expliqué ci-dessus, le genre des films est une variable qui nous intéresse particulièrement dans ce projet. Le dataset répertorie 28 genres différents."
   ]
  },
  {
   "cell_type": "markdown",
   "metadata": {},
   "source": [
    "#### Étude des genres des films"
   ]
  },
  {
   "cell_type": "markdown",
   "metadata": {},
   "source": [
    "Pour s'intéresser plus précisément au genre des films de la base, nous avons tracé un histogramme des genres. Il est clair que deux genres sont surreprésentés dans le dataset : \"Drama\" et \"Comedy\".\n",
    "Nous avons vite compris qu'il était crucial de différencier les films à proprement parler des séries. Comme celles-ci étaient reconnaissables par la valeur \"Drama\" de la variable \"Genre\", il suffisait alors d'appliquer un filtre pour exclure toutes les entrées qui prenaient la valeur \"Drama\". Nous avons ensuite tracé un nouvel histogramme en excluant donc les séries."
   ]
  },
  {
   "cell_type": "markdown",
   "metadata": {},
   "source": [
    "<center> <img src=\"figures/All_genres.png\" alt=\"Drawing\" style=\"width: 400px;\"/><img src=\"figures/Genres_except_Drama.png\" alt=\"Drawing\" style=\"width: 400px;\"/> </center>"
   ]
  },
  {
   "cell_type": "markdown",
   "metadata": {},
   "source": [
    "L'histogramme incluant la valeur \"Drama\" et représentée à gauche, celui l'excluant à droite. On remarque qu'excepté \"Drama\" et \"Comedy\", les genres suivants correspondent à des effectifs similaires, avec une légère prédominance de \"Documentary\" et \"Action\"."
   ]
  },
  {
   "cell_type": "markdown",
   "metadata": {},
   "source": [
    "#### Étude des durées des films"
   ]
  },
  {
   "cell_type": "markdown",
   "metadata": {},
   "source": [
    "Un autre aspect qu'il nous a paru intéressant d'étudier en tant que critère potentiel du succès d'un film est la variable \"Length\". Mais avant de voir s'il existe une corrélation entre le succès d'un film et sa longueur, nous avons examiné la répartition des valeurs de cette variable, en traçant un autre histogramme."
   ]
  },
  {
   "cell_type": "markdown",
   "metadata": {},
   "source": [
    "<center> <img src=\"figures/Lengths.png\" alt=\"Drawing\" style=\"width: 600px;\"/> </center>"
   ]
  },
  {
   "cell_type": "markdown",
   "metadata": {},
   "source": [
    "Il apparaît clairement trois pics autour desquels sont concentrés une grande partie des films de la base : un premier pic à 30 minutes et un deuxième à 60 minutes, qui correspondent aux séries. Enfin, on observe une concentration des films autour de 90 minutes, mais avec une étendue plus importante, certains films dépassant les 3 heures."
   ]
  },
  {
   "cell_type": "markdown",
   "metadata": {},
   "source": [
    "#### Statistiques générales sur le dataset"
   ]
  },
  {
   "cell_type": "markdown",
   "metadata": {},
   "source": [
    "Nous avons enfin fait des statistiques descriptives sur quatre variables du dataset: \"Released\" (l'année de sortie du film), \"Runtime\" (la durée du film), \"Rating\" (la note moyenne du film sur 10) et numVotes (le nombre de votes sur ce film, essentiel pour distinguer les films éligibles, c'est-à-dire avec plus de 25000 votes, des autres). On remarque des valeurs aberrantes, notamment un film datant de l'an 3000 ou encore un film d'une durée de 59460 minutes... On retrouve également des valeurs exposées en début de page, avec une durée moyenne de 55 minutes, par exemple."
   ]
  },
  {
   "cell_type": "markdown",
   "metadata": {},
   "source": [
    "### 3.2 Films populaires et réalisateurs prolifiques"
   ]
  },
  {
   "cell_type": "markdown",
   "metadata": {},
   "source": [
    "Nous nous sommes ensuite intéressés aux films populaires et au top 250 IMDb, en commençant par des statistiques générales comme pour l'ensemble des films. 6685 films du dataset sont des films populaires. Leurs durées sont plus raisonnables, comprises entre 21 minutes et 5 heures, ce qui semble cohérent. Notons que le nombre de genres a diminué de 1, passant de 28 à 27, car nous ne nous intéressons plus aux dramas, que l'on exclut de notre analyse."
   ]
  },
  {
   "cell_type": "markdown",
   "metadata": {},
   "source": [
    "#### Répartition des genres des films populaires"
   ]
  },
  {
   "cell_type": "markdown",
   "metadata": {},
   "source": [
    "<center> <img src=\"figures/Genres_popular_films.png\" alt=\"Drawing\" style=\"width: 600px;\"/> </center>"
   ]
  },
  {
   "cell_type": "markdown",
   "metadata": {},
   "source": [
    "En traçant la répartition des genres des films populaires, nous observons une fois de plus une prédominance du genre \"Comedy\". Mais ce genre n'est plus surreprésenté comme dans l'échantillon initial. Si l'on se restreint aux films populaires, nous observons en effet que les genres \"Action\", \"Crime\" et \"Adventure\" représentent une part importante du total."
   ]
  },
  {
   "cell_type": "markdown",
   "metadata": {},
   "source": [
    "#### Répartition des durées des films populaires"
   ]
  },
  {
   "cell_type": "markdown",
   "metadata": {},
   "source": [
    "<center> <img src=\"figures/Lengths_popular_films.png\" alt=\"Drawing\" style=\"width: 600px;\"/> </center>"
   ]
  },
  {
   "cell_type": "markdown",
   "metadata": {},
   "source": [
    "La répartition des longueurs de films est beaucoup moins hétérogène que si l'on considère l'ensemble des films du dataset. On observe un pic aux alentours de 1 heure et demie. La courbe prend une allure de distribution normale étalée sur la droite, avec une croissance rapide entre 80 et 100 minutes, puis une décroissance beaucoup plus légère entre 100 et 200 minutes. Le graphe ressemble à présent à une loi beta ou une loi de Weibull."
   ]
  },
  {
   "cell_type": "markdown",
   "metadata": {},
   "source": [
    "#### Top 250 IMDb"
   ]
  },
  {
   "cell_type": "markdown",
   "metadata": {},
   "source": [
    "Le graphe des genres à succès (présents dans le top 250) est similaire à celui des films populaires. Notons néanmoins la progression des genres \"Crime\", \"Action\" et \"Adventure\" qui ont dépassé \"Comedy\".\n",
    "\n",
    "Quant aux durées des films, la plage des valeurs est à peu près la même, mais on observe une déviation de la moyenne vers la droite. L'allure de la courbe est plus symétrique que précédemment, avec un pic à 130 minutes."
   ]
  },
  {
   "cell_type": "markdown",
   "metadata": {},
   "source": [
    "#### Réalisateurs prolifiques"
   ]
  },
  {
   "cell_type": "markdown",
   "metadata": {},
   "source": [
    "Nous nous sommes ensuite demandés quels étaient les réalisateurs avec le plus de films dans la base, puis nous avons affichés les 5 ayant produit le plus de films et séries. Toutes les valeurs du top 5 dépassent le millier, car elles correspondent à des réalisateurs de show télévisés, tels que Chuck O'Neil, réalisateur de *The Daily Show*.\n",
    "Si l'on se restreint aux films éligibles, le nombre de films produits est évidemment bien moindre, avec des réalisateurs tous mondialement connus.\n",
    "Enfin, dans le top 250, les 5 plus grands réalisateurs sont Christopher Nolan, Akira Kurosawa, Martin Scorsese, Stanley Kubrick et Alfred Hitchcock. À eux seuls, ils occupent plus d'un dixième du top 250."
   ]
  },
  {
   "cell_type": "markdown",
   "metadata": {},
   "source": [
    "## **4. Modélisation**"
   ]
  },
  {
   "cell_type": "markdown",
   "metadata": {},
   "source": [
    "## **5. Pour aller plus loin...**"
   ]
  }
 ],
 "metadata": {
  "kernelspec": {
   "display_name": "base",
   "language": "python",
   "name": "python3"
  },
  "language_info": {
   "codemirror_mode": {
    "name": "ipython",
    "version": 3
   },
   "file_extension": ".py",
   "mimetype": "text/x-python",
   "name": "python",
   "nbconvert_exporter": "python",
   "pygments_lexer": "ipython3",
   "version": "3.12.7"
  }
 },
 "nbformat": 4,
 "nbformat_minor": 2
}
