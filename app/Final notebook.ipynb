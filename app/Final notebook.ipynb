{
 "cells": [
  {
   "cell_type": "markdown",
   "metadata": {},
   "source": [
    "# **Projet IMDB — Python pour la data science**"
   ]
  },
  {
   "cell_type": "markdown",
   "metadata": {},
   "source": [
    "#### **Projet réalisé par : Antoine ROCHE, Guy DELLOYE, Sarakpy NY**"
   ]
  },
  {
   "cell_type": "markdown",
   "metadata": {},
   "source": [
    "## Problématique et données"
   ]
  },
  {
   "cell_type": "markdown",
   "metadata": {},
   "source": [
    "<center> <img src=\"figures/IMDb_logo.png\" alt=\"Drawing\" style=\"width: 400px;\"/> </center>"
   ]
  },
  {
   "cell_type": "markdown",
   "metadata": {},
   "source": [
    "Notre projet s'intéresse aux films ayant le plus de succès à partir du site IMDb. Il se décompose en deux parties :\n",
    "1. **Statistiques sur les films de l'IMDb**\n",
    "\n",
    "   Nous effectuons dans un premier temps une analyse des films dont les données sont disponibles sur le site sur plusieurs échelles : nous nous intéressons dans un premier temps à l'ensemble des films et séries, avant de nous restreindre aux films, les séries jouant un rôle néfaste dans notre analyse, comme expliqué plus tard. Puis nous nous intéressons aux \"meilleurs\" films. L'IMDb effectue en effet un top 250 des films. Pour être éligible au top 250, il faut d'abord que le film ait plus de 25000 notes par les utilisateurs. Nous nous intéressons donc dans un troisième temps aux films éligibles (*popular films*) avant de nous concentrer enfin sur le top 250 IMDb.\n",
    "\n",
    "   Nous effectuons une analyse statistique et graphique des données afin de mesurer l'importance du genre ou encore de la durée. Nous nous intéressons également aux directeurs prolifiques \n",
    "\n",
    "2. **Algorithme de recommendation de films**\n",
    "\n",
    "   Au-delà de cette analyse des films à succès, nous avons trouvé intéressant de produire un algorithme de recommendation de films. À partir d'un ou plusieurs films que l'utilisateur apprécie, l'algorithme lui recommande d'autres films de la base de données qu'il pourrait apprécier.\n"
   ]
  },
  {
   "cell_type": "markdown",
   "metadata": {},
   "source": [
    "## **1. Mise en place**"
   ]
  },
  {
   "cell_type": "markdown",
   "metadata": {},
   "source": [
    "Les premières commandes à entrer dans le Terminal sont indiquées dans le fichier setup.py"
   ]
  },
  {
   "cell_type": "code",
   "execution_count": 1,
   "metadata": {},
   "outputs": [
    {
     "ename": "SyntaxError",
     "evalue": "invalid syntax (2490196566.py, line 2)",
     "output_type": "error",
     "traceback": [
      "\u001b[0;36m  Cell \u001b[0;32mIn[1], line 2\u001b[0;36m\u001b[0m\n\u001b[0;31m    git clone https://github.com/deph-s/projet_python_ds2024\u001b[0m\n\u001b[0m        ^\u001b[0m\n\u001b[0;31mSyntaxError\u001b[0m\u001b[0;31m:\u001b[0m invalid syntax\n"
     ]
    }
   ],
   "source": [
    "# Clone the repository\n",
    "git clone https://github.com/deph-s/projet_python_ds2024\n",
    "\n",
    "# Navigate into the directory\n",
    "cd projet_python_ds2024/app/\n",
    "\n",
    "# Install everything with the setup.py\n",
    "python setup.py install\n",
    "\n",
    "# Run the streamlit file\n",
    "streamlit run Analysis_of_the_IMDb_dataset.py"
   ]
  },
  {
   "cell_type": "markdown",
   "metadata": {},
   "source": [
    "L'exécution de ces commandes permet à l'utilisateur d'ouvrir dans le browser l'interface de notre projet."
   ]
  },
  {
   "cell_type": "markdown",
   "metadata": {},
   "source": [
    "## **2. Récupération et traitement des données**"
   ]
  },
  {
   "cell_type": "markdown",
   "metadata": {},
   "source": [
    "### 2.1 Récupération des données"
   ]
  },
  {
   "cell_type": "markdown",
   "metadata": {},
   "source": [
    "### 2.2 Variables intéressantes de la base"
   ]
  },
  {
   "cell_type": "markdown",
   "metadata": {},
   "source": [
    "## **3. Analyse descriptive et représentation graphique**"
   ]
  },
  {
   "cell_type": "markdown",
   "metadata": {},
   "source": [
    "Les statistiques descriptives occupent une part importante de notre projet, qui correspondent aux trois premières pages \"First look at the data\", \"Popular movies and directors\" et \"Some statistics\". Nous y étudions le rôle du genre, de la durée ou d'autres facteurs encore sur le succès éventuel d'un film. "
   ]
  },
  {
   "cell_type": "markdown",
   "metadata": {},
   "source": [
    "### 3.1 Premières observations"
   ]
  },
  {
   "cell_type": "markdown",
   "metadata": {},
   "source": [
    "Nous avons tout d'abord affiché les premières lignes du dataset. On y observe pour chaque film son id, le titre ou encore l'année de sortie, variable nommée \"Released\" qui nous sera utile pour la suite. On observe que l'année est indiquée avec une virgule après le chiffre des milliers, et il nous a semblé utile de la retirer dans notre analyse. La variable \"Genres\" nous intéresse également. D'autres variables sont peu renseignées, comme le montre par exemple la colonne \"Writers\"."
   ]
  },
  {
   "cell_type": "markdown",
   "metadata": {},
   "source": [
    "Nous avons ensuite effectué une première analyse rapide du dataset."
   ]
  },
  {
   "cell_type": "markdown",
   "metadata": {},
   "source": [
    "## **4. Modélisation**"
   ]
  },
  {
   "cell_type": "markdown",
   "metadata": {},
   "source": [
    "## **5. Pour aller plus loin...**"
   ]
  }
 ],
 "metadata": {
  "kernelspec": {
   "display_name": "base",
   "language": "python",
   "name": "python3"
  },
  "language_info": {
   "codemirror_mode": {
    "name": "ipython",
    "version": 3
   },
   "file_extension": ".py",
   "mimetype": "text/x-python",
   "name": "python",
   "nbconvert_exporter": "python",
   "pygments_lexer": "ipython3",
   "version": "3.12.7"
  }
 },
 "nbformat": 4,
 "nbformat_minor": 2
}
